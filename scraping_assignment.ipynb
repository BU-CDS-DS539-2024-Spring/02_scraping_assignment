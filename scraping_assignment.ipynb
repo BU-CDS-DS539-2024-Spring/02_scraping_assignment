{
 "cells": [
  {
   "cell_type": "code",
   "execution_count": null,
   "id": "eb0cd67c",
   "metadata": {
    "deletable": false,
    "editable": false
   },
   "outputs": [],
   "source": [
    "# Initialize Otter\n",
    "import otter\n",
    "grader = otter.Notebook(\"scraping_assignment.ipynb\")"
   ]
  },
  {
   "cell_type": "code",
   "execution_count": null,
   "id": "40f946db",
   "metadata": {},
   "outputs": [],
   "source": [
    "from bs4 import BeautifulSoup\n",
    "import requests\n",
    "import numpy as np"
   ]
  },
  {
   "cell_type": "markdown",
   "id": "c045a56f",
   "metadata": {
    "deletable": false,
    "editable": false
   },
   "source": [
    "## 1. Get the full names of 5 star rating books in the first page. "
   ]
  },
  {
   "cell_type": "markdown",
   "id": "b24b4960",
   "metadata": {
    "deletable": false,
    "editable": false
   },
   "source": [
    "Check this site [https://books.toscrape.com/catalogue/page-1.html](https://books.toscrape.com/catalogue/page-1.html).\n",
    "\n",
    "This is just the first page, and there are exactly 50 pages like this, you can just change `page-1` to `page-2` and so on. \n",
    "\n",
    "For this first question, Just get the names of books from `page-1` which got 5 star rating, as a list.  Names should be full. Find `img` tag for each book by inspecting the corresponding part in page, and check for full name of the book in the `alt` attribute of `img` tag."
   ]
  },
  {
   "cell_type": "code",
   "execution_count": null,
   "id": "e36c8e11",
   "metadata": {
    "tags": []
   },
   "outputs": [],
   "source": [
    "def get_5star_books(url):\n",
    "\n",
    "\n",
    "\n",
    "\n",
    "\n",
    "\n",
    "\n",
    "\n",
    "\n",
    "    ...\n",
    "\n",
    "\n",
    "url = 'https://books.toscrape.com/catalogue/page-1.html'\n",
    "\n",
    "fivestar_books = get_5star_books(url)\n",
    "\n",
    "print(fivestar_books)"
   ]
  },
  {
   "cell_type": "code",
   "execution_count": null,
   "id": "41cf35dd",
   "metadata": {
    "deletable": false,
    "editable": false
   },
   "outputs": [],
   "source": [
    "grader.check(\"q1\")"
   ]
  },
  {
   "cell_type": "markdown",
   "id": "18edb6eb",
   "metadata": {
    "deletable": false,
    "editable": false
   },
   "source": [
    "## 2. Combined prices of All Saga books available in the chart"
   ]
  },
  {
   "cell_type": "markdown",
   "id": "bb7e41e1",
   "metadata": {
    "deletable": false,
    "editable": false
   },
   "source": [
    "Now Iterate over all 50 pages available to find books from Saga series. There are Saga 1,2,3,5,6 volumes available in the site. These you can get my matching pattern from the titles. Get the total prices of those five books. Return the float value (round nearest to two decimal points) and Don't change the currency "
   ]
  },
  {
   "cell_type": "code",
   "execution_count": null,
   "id": "25bca842",
   "metadata": {
    "tags": []
   },
   "outputs": [],
   "source": [
    "def calculate_price_saga(pattern):\n",
    "\n",
    "\n",
    "\n",
    "\n",
    "\n",
    "\n",
    "\n",
    "    ...\n",
    "\n",
    "\n",
    "pattern = 'Saga, Volume'\n",
    "\n",
    "total_price = calculate_price_saga(pattern)\n",
    "\n",
    "print(total_price)\n"
   ]
  },
  {
   "cell_type": "code",
   "execution_count": null,
   "id": "b54ddc4d",
   "metadata": {
    "deletable": false,
    "editable": false
   },
   "outputs": [],
   "source": [
    "grader.check(\"q2\")"
   ]
  },
  {
   "cell_type": "markdown",
   "id": "fee1bfce",
   "metadata": {
    "deletable": false,
    "editable": false
   },
   "source": [
    "## 3. Convert the above price to Dollars using given API"
   ]
  },
  {
   "cell_type": "markdown",
   "id": "78b5cd71",
   "metadata": {
    "deletable": false,
    "editable": false
   },
   "source": [
    "Convert `total_price` to dollars using the given API. Pass the `total_price` to `pounds` as attribute in `params` for `requests.get`. Return float value, rounding to nearest two decimal points"
   ]
  },
  {
   "cell_type": "code",
   "execution_count": null,
   "id": "0ef37793",
   "metadata": {
    "tags": []
   },
   "outputs": [],
   "source": [
    "# http://127.0.0.1:5000/convert?pounds=10\n",
    "\n",
    "api_url = 'http://127.0.0.1:5000/convert'\n",
    "\n",
    "\n",
    "\n",
    "print(price_in_dollars)"
   ]
  },
  {
   "cell_type": "code",
   "execution_count": null,
   "id": "c4164c67",
   "metadata": {
    "deletable": false,
    "editable": false
   },
   "outputs": [],
   "source": [
    "grader.check(\"q3\")"
   ]
  },
  {
   "cell_type": "markdown",
   "id": "920ae9a7",
   "metadata": {
    "deletable": false,
    "editable": false
   },
   "source": [
    "## NOTE: Q 4, 5, & 6\n",
    "Check this site https://www.boxofficemojo.com/chart/top_lifetime_gross/ . For questions 4, 5, & 6, focus on the domestic only. Don't change to international.\n",
    "\n",
    "There are multiple pages, and you can use `params` argument in the `requests.get` to move across the pages, as discusssed in the lab"
   ]
  },
  {
   "cell_type": "markdown",
   "id": "edeae600",
   "metadata": {
    "deletable": false,
    "editable": false
   },
   "source": [
    "## 4. List the movies in top 200 that released in or after 2020"
   ]
  },
  {
   "cell_type": "markdown",
   "id": "b2b839b3",
   "metadata": {
    "deletable": false,
    "editable": false
   },
   "source": [
    "For this question, just focus on the first page, which has top 200 (you dont have to pass any headers or params) and get the movie names released in or after 2020, as a list."
   ]
  },
  {
   "cell_type": "code",
   "execution_count": null,
   "id": "08d6d86f",
   "metadata": {
    "tags": []
   },
   "outputs": [],
   "source": [
    "def get_movies(url, req_year):\n",
    "\n",
    "\n",
    "\n",
    "\n",
    "\n",
    "\n",
    "\n",
    "\n",
    "\n",
    "\n",
    "    ...\n",
    "\n",
    "\n",
    "url = 'https://www.boxofficemojo.com/chart/top_lifetime_gross/'\n",
    "year = 2020\n",
    "\n",
    "movies_list = get_movies(url, year)\n",
    "\n",
    "print(movies_list)"
   ]
  },
  {
   "cell_type": "code",
   "execution_count": null,
   "id": "b676a9ae",
   "metadata": {
    "deletable": false,
    "editable": false
   },
   "outputs": [],
   "source": [
    "grader.check(\"q4\")"
   ]
  },
  {
   "cell_type": "markdown",
   "id": "df7b65f7",
   "metadata": {
    "deletable": false,
    "editable": false
   },
   "source": [
    "## 5. List the Terminator movies present in the chart\n"
   ]
  },
  {
   "cell_type": "markdown",
   "id": "ef306bd6",
   "metadata": {
    "deletable": false,
    "editable": false
   },
   "source": [
    "Now Iterate over all 1000 movies available to find Terminator movies in the chart. These you can get my matching pattern from the titles. Get the list of Terminator movies present, as a list. [ Hint: Just movies which has the word `terminator` present in the title (case insensitive).]"
   ]
  },
  {
   "cell_type": "code",
   "execution_count": null,
   "id": "2777c1c7",
   "metadata": {
    "tags": []
   },
   "outputs": [],
   "source": [
    "def get_movies_pattern(pattern):\n",
    "\n",
    "\n",
    "\n",
    "\n",
    "\n",
    "\n",
    "\n",
    "\n",
    "\n",
    "\n",
    "    ...\n",
    "\n",
    "\n",
    "pattern = 'terminator'\n",
    "\n",
    "terminator_movies_list = get_movies_pattern(pattern)\n",
    "\n",
    "print(terminator_movies_list)"
   ]
  },
  {
   "cell_type": "code",
   "execution_count": null,
   "id": "babc4af7",
   "metadata": {
    "deletable": false,
    "editable": false
   },
   "outputs": [],
   "source": [
    "grader.check(\"q5\")"
   ]
  },
  {
   "cell_type": "markdown",
   "id": "e2dda726",
   "metadata": {
    "deletable": false,
    "editable": false
   },
   "source": [
    "## Question 6 \n",
    "\n",
    "Calculate the combined gross of all 4 Avengers Movies (Domestic Only)"
   ]
  },
  {
   "cell_type": "code",
   "execution_count": null,
   "id": "261a9588",
   "metadata": {
    "tags": []
   },
   "outputs": [],
   "source": [
    "import re\n",
    "\n",
    "def calculate_netgross_pattern(pattern):\n",
    "\n",
    "\n",
    "\n",
    "\n",
    "\n",
    "\n",
    "\n",
    "\n",
    "\n",
    "\n",
    "\n",
    "\n",
    "\n",
    "\n",
    "\n",
    "    ...\n",
    "\n",
    "\n",
    "\n",
    "pattern = 'avengers'\n",
    "\n",
    "avengers_gross = calculate_netgross_pattern(pattern)\n",
    "\n",
    "print(avengers_gross)\n"
   ]
  },
  {
   "cell_type": "code",
   "execution_count": null,
   "id": "b7eba3da",
   "metadata": {
    "deletable": false,
    "editable": false
   },
   "outputs": [],
   "source": [
    "grader.check(\"q6\")"
   ]
  },
  {
   "cell_type": "markdown",
   "id": "652a79f1",
   "metadata": {
    "deletable": false,
    "editable": false
   },
   "source": [
    "## Question 7. \n",
    "\n",
    "Get the companies belonging to \"Oil and gas\" industry out of the set of 50 largest companies on this [wikipedia page](https://en.wikipedia.org/wiki/List_of_largest_companies_by_revenue):  "
   ]
  },
  {
   "cell_type": "code",
   "execution_count": null,
   "id": "f48a5e99",
   "metadata": {
    "tags": []
   },
   "outputs": [],
   "source": [
    "\n",
    "def get_companies(url, industry):\n",
    "\n",
    "\n",
    "\n",
    "\n",
    "\n",
    "\n",
    "\n",
    "\n",
    "\n",
    "url = 'https://en.wikipedia.org/wiki/List_of_largest_companies_by_revenue'\n",
    "industry = 'Oil and gas'\n",
    "\n",
    "companies_list = get_companies(url, industry)\n",
    "print(companies_list)"
   ]
  },
  {
   "cell_type": "code",
   "execution_count": null,
   "id": "0964366a",
   "metadata": {
    "deletable": false,
    "editable": false
   },
   "outputs": [],
   "source": [
    "grader.check(\"q7\")"
   ]
  }
 ],
 "metadata": {
  "kernelspec": {
   "display_name": "Python 3 (ipykernel)",
   "language": "python",
   "name": "python3"
  },
  "language_info": {
   "codemirror_mode": {
    "name": "ipython",
    "version": 3
   },
   "file_extension": ".py",
   "mimetype": "text/x-python",
   "name": "python",
   "nbconvert_exporter": "python",
   "pygments_lexer": "ipython3",
   "version": "3.12.0"
  },
  "otter": {
   "OK_FORMAT": true,
   "tests": {
    "q1": {
     "name": "q1",
     "points": 10,
     "suites": [
      {
       "cases": [
        {
         "code": ">>> type(fivestar_books) == list\nTrue",
         "hidden": false,
         "locked": false
        }
       ],
       "scored": true,
       "setup": "",
       "teardown": "",
       "type": "doctest"
      }
     ]
    },
    "q2": {
     "name": "q2",
     "points": 10,
     "suites": [
      {
       "cases": [
        {
         "code": ">>> type(total_price) == float\nTrue",
         "hidden": false,
         "locked": false
        }
       ],
       "scored": true,
       "setup": "",
       "teardown": "",
       "type": "doctest"
      }
     ]
    },
    "q3": {
     "name": "q3",
     "points": 10,
     "suites": [
      {
       "cases": [
        {
         "code": ">>> type(price_in_dollars) == float\nTrue",
         "hidden": false,
         "locked": false
        }
       ],
       "scored": true,
       "setup": "",
       "teardown": "",
       "type": "doctest"
      }
     ]
    },
    "q4": {
     "name": "q4",
     "points": 10,
     "suites": [
      {
       "cases": [
        {
         "code": ">>> type(movies_list) == list\nTrue",
         "hidden": false,
         "locked": false
        }
       ],
       "scored": true,
       "setup": "",
       "teardown": "",
       "type": "doctest"
      }
     ]
    },
    "q5": {
     "name": "q5",
     "points": 10,
     "suites": [
      {
       "cases": [
        {
         "code": ">>> type(terminator_movies_list) == list\nTrue",
         "hidden": false,
         "locked": false
        }
       ],
       "scored": true,
       "setup": "",
       "teardown": "",
       "type": "doctest"
      }
     ]
    },
    "q6": {
     "name": "q6",
     "points": 10,
     "suites": [
      {
       "cases": [
        {
         "code": ">>> type(avengers_gross) == int or type(avengers_gross) == float\nTrue",
         "hidden": false,
         "locked": false
        }
       ],
       "scored": true,
       "setup": "",
       "teardown": "",
       "type": "doctest"
      }
     ]
    },
    "q7": {
     "name": "q7",
     "points": [
      0
     ],
     "suites": [
      {
       "cases": [
        {
         "code": ">>> type(companies_list) == list\nTrue",
         "hidden": false,
         "locked": false
        }
       ],
       "scored": true,
       "setup": "",
       "teardown": "",
       "type": "doctest"
      }
     ]
    }
   }
  }
 },
 "nbformat": 4,
 "nbformat_minor": 5
}
